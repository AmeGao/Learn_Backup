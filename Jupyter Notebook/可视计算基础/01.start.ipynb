{
 "cells": [
  {
   "cell_type": "code",
   "execution_count": 7,
   "metadata": {},
   "outputs": [
    {
     "data": {
      "text/plain": [
       "array([[  1.87,  51.  , 578.  ],\n",
       "       [  1.93,  62.  , 579.  ],\n",
       "       [  1.62,  57.  , 564.  ],\n",
       "       [  1.58,  56.  , 600.  ],\n",
       "       [  1.59,  75.  , 618.  ],\n",
       "       [  1.61,  70.  , 637.  ],\n",
       "       [  1.55,  87.  , 637.  ],\n",
       "       [  1.65,  68.  , 644.  ],\n",
       "       [  1.5 ,  70.  , 646.  ],\n",
       "       [  1.66,  61.  , 636.  ]])"
      ]
     },
     "execution_count": 7,
     "metadata": {},
     "output_type": "execute_result"
    }
   ],
   "source": [
    "import numpy as np\n",
    "\n",
    "np.random.seed(1)\n",
    "height = np.random.randint(150,200,(10,1))/100 \n",
    "weight = np.random.randint(50,90,(10,1))\n",
    "s = np.random.randint(550,650,(10,1))\n",
    "\n",
    "mat= np.hstack([height,weight,s])\n",
    "\n",
    "mat\n"
   ]
  },
  {
   "cell_type": "code",
   "execution_count": 8,
   "metadata": {},
   "outputs": [
    {
     "data": {
      "text/plain": [
       "array([[ 1.64111202, -1.46699573, -1.21720094],\n",
       "       [ 2.10123688, -0.36924382, -1.18329562],\n",
       "       [-0.27607492, -0.86822197, -1.6918754 ],\n",
       "       [-0.58282483, -0.96801759, -0.47128393],\n",
       "       [-0.50613735,  0.92809934,  0.13901181],\n",
       "       [-0.3527624 ,  0.4291212 ,  0.78321286],\n",
       "       [-0.81288726,  2.12564688,  0.78321286],\n",
       "       [-0.04601249,  0.22952994,  1.02055009],\n",
       "       [-1.19632465,  0.4291212 ,  1.08836073],\n",
       "       [ 0.03067499, -0.46903945,  0.74930754]])"
      ]
     },
     "execution_count": 8,
     "metadata": {},
     "output_type": "execute_result"
    }
   ],
   "source": [
    "mean = np.mean(mat,axis=0)\n",
    "std = np.std(mat,axis=0)\n",
    "(mat-mean)/std"
   ]
  }
 ],
 "metadata": {
  "kernelspec": {
   "display_name": "Python 3",
   "language": "python",
   "name": "python3"
  },
  "language_info": {
   "codemirror_mode": {
    "name": "ipython",
    "version": 3
   },
   "file_extension": ".py",
   "mimetype": "text/x-python",
   "name": "python",
   "nbconvert_exporter": "python",
   "pygments_lexer": "ipython3",
   "version": "3.7.4"
  }
 },
 "nbformat": 4,
 "nbformat_minor": 2
}
